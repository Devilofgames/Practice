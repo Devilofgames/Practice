{
 "cells": [
  {
   "cell_type": "code",
   "execution_count": 1,
   "id": "c00b0165-6e68-43b8-8033-a04cc884554c",
   "metadata": {},
   "outputs": [
    {
     "name": "stdout",
     "output_type": "stream",
     "text": [
      "SparkSession created successfully!\n"
     ]
    }
   ],
   "source": [
    "import findspark\n",
    "findspark.init()\n",
    "from pyspark.sql import SparkSession\n",
    "spark = SparkSession.builder \\\n",
    "    .appName(\"MyPySparkAppInJupyter\") \\\n",
    "    .getOrCreate()\n",
    "print(\"SparkSession created successfully!\")"
   ]
  },
  {
   "cell_type": "code",
   "execution_count": 2,
   "id": "fd1c20f6-d010-4538-8bd8-c3d1594f3182",
   "metadata": {},
   "outputs": [],
   "source": [
    "df=spark.read.format('parquet').load('F:/spark_output/my_first_parquet_data')"
   ]
  },
  {
   "cell_type": "code",
   "execution_count": 3,
   "id": "a4142682-b96f-4e79-b4fe-f71b112cab44",
   "metadata": {},
   "outputs": [
    {
     "name": "stdout",
     "output_type": "stream",
     "text": [
      "+-------+---+--------+\n",
      "|   Name|Age|    City|\n",
      "+-------+---+--------+\n",
      "|  Alice| 30|New York|\n",
      "|  David| 29|   Tokyo|\n",
      "|    Bob| 24|  London|\n",
      "|Charlie| 35|   Paris|\n",
      "|    Eve| 42|  Sydney|\n",
      "|  Frank| 27|  Berlin|\n",
      "+-------+---+--------+\n",
      "\n"
     ]
    }
   ],
   "source": [
    "df.show()"
   ]
  },
  {
   "cell_type": "code",
   "execution_count": null,
   "id": "2e7b2fb2-93b9-4763-a7ba-fd0d81930cfb",
   "metadata": {},
   "outputs": [],
   "source": []
  }
 ],
 "metadata": {
  "kernelspec": {
   "display_name": "Python 3 (ipykernel)",
   "language": "python",
   "name": "python3"
  },
  "language_info": {
   "codemirror_mode": {
    "name": "ipython",
    "version": 3
   },
   "file_extension": ".py",
   "mimetype": "text/x-python",
   "name": "python",
   "nbconvert_exporter": "python",
   "pygments_lexer": "ipython3",
   "version": "3.13.3"
  }
 },
 "nbformat": 4,
 "nbformat_minor": 5
}
